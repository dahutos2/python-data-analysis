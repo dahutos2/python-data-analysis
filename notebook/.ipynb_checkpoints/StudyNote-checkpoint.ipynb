{
 "cells": [
  {
   "cell_type": "code",
   "execution_count": 1,
   "id": "6ea80d01",
   "metadata": {},
   "outputs": [
    {
     "name": "stdout",
     "output_type": "stream",
     "text": [
      "ham\n",
      "spam\n",
      "spam\n",
      "eggs\n",
      "spam\n",
      "ham\n",
      "eggs\n",
      "spam\n",
      "spam\n",
      "eggs\n",
      "Finish\n"
     ]
    }
   ],
   "source": [
    "for i in range(10):\n",
    "    if i%5==0:\n",
    "        print('ham')\n",
    "    elif i%3==0:\n",
    "        print('eggs')\n",
    "    else:\n",
    "        print('spam')\n",
    "print('Finish')        "
   ]
  },
  {
   "cell_type": "code",
   "execution_count": 2,
   "id": "e5040202",
   "metadata": {},
   "outputs": [
    {
     "name": "stdout",
     "output_type": "stream",
     "text": [
      "昭和\n",
      "平成\n",
      "新元号\n"
     ]
    }
   ],
   "source": [
    "for year in [1950,2000,2020]:\n",
    "    if year<1989:\n",
    "        print('昭和')\n",
    "    elif year<2019:\n",
    "        print('平成')\n",
    "    else:\n",
    "        print('新元号')"
   ]
  },
  {
   "cell_type": "code",
   "execution_count": 3,
   "id": "0e182c67",
   "metadata": {},
   "outputs": [
    {
     "name": "stdout",
     "output_type": "stream",
     "text": [
      "0で割れません\n"
     ]
    }
   ],
   "source": [
    "try:\n",
    "    1/0\n",
    "except ZeroDivisionError:\n",
    "    print('0で割れません')"
   ]
  },
  {
   "cell_type": "code",
   "execution_count": 4,
   "id": "9f297cc1",
   "metadata": {},
   "outputs": [
    {
     "data": {
      "text/plain": [
       "[4, 3, 4]"
      ]
     },
     "execution_count": 4,
     "metadata": {},
     "output_type": "execute_result"
    }
   ],
   "source": [
    "names=['spam','ham','eggs']\n",
    "lens=[]\n",
    "for name in names:\n",
    "    lens.append(len(name))\n",
    "lens"
   ]
  },
  {
   "cell_type": "code",
   "execution_count": 5,
   "id": "c3fa6c2b",
   "metadata": {},
   "outputs": [
    {
     "data": {
      "text/plain": [
       "[4, 3, 4]"
      ]
     },
     "execution_count": 5,
     "metadata": {},
     "output_type": "execute_result"
    }
   ],
   "source": [
    "names=['spam','ham','eggs']\n",
    "lens=[]\n",
    "[len(name) for name in names]#文字列の長さのリストの作成"
   ]
  },
  {
   "cell_type": "code",
   "execution_count": 6,
   "id": "a6b807b2",
   "metadata": {},
   "outputs": [
    {
     "data": {
      "text/plain": [
       "['spam', 'ham', 'eggs']"
      ]
     },
     "execution_count": 6,
     "metadata": {},
     "output_type": "execute_result"
    }
   ],
   "source": [
    "names"
   ]
  },
  {
   "cell_type": "code",
   "execution_count": 7,
   "id": "72563aee",
   "metadata": {},
   "outputs": [
    {
     "data": {
      "text/plain": [
       "{3, 4}"
      ]
     },
     "execution_count": 7,
     "metadata": {},
     "output_type": "execute_result"
    }
   ],
   "source": [
    "{len(name) for name in names}#文字列の長さのセットを作成"
   ]
  },
  {
   "cell_type": "code",
   "execution_count": 8,
   "id": "ef4bd628",
   "metadata": {},
   "outputs": [
    {
     "data": {
      "text/plain": [
       "{'spam': 4, 'ham': 3, 'eggs': 4}"
      ]
     },
     "execution_count": 8,
     "metadata": {},
     "output_type": "execute_result"
    }
   ],
   "source": [
    "{name:len(name) for name in names}#文字列とその長さの辞書を作成"
   ]
  },
  {
   "cell_type": "code",
   "execution_count": 9,
   "id": "3d1e8d8e",
   "metadata": {},
   "outputs": [
    {
     "data": {
      "text/plain": [
       "[0, 4, 16, 36, 64]"
      ]
     },
     "execution_count": 9,
     "metadata": {},
     "output_type": "execute_result"
    }
   ],
   "source": [
    "[x*x for x in range(10) if x%2==0]"
   ]
  },
  {
   "cell_type": "code",
   "execution_count": 10,
   "id": "f0da340d",
   "metadata": {},
   "outputs": [
    {
     "data": {
      "text/plain": [
       "[[(0, 0), (0, 4), (0, 16), (0, 36), (0, 64)],\n",
       " [(1, 0), (1, 4), (1, 16), (1, 36), (1, 64)],\n",
       " [(2, 0), (2, 4), (2, 16), (2, 36), (2, 64)]]"
      ]
     },
     "execution_count": 10,
     "metadata": {},
     "output_type": "execute_result"
    }
   ],
   "source": [
    "[[(y,x*x) for x in range(10) if x%2==0]for y in range(3)]"
   ]
  },
  {
   "cell_type": "code",
   "execution_count": 11,
   "id": "4feb44ea",
   "metadata": {},
   "outputs": [
    {
     "data": {
      "text/plain": [
       "(list, 100000)"
      ]
     },
     "execution_count": 11,
     "metadata": {},
     "output_type": "execute_result"
    }
   ],
   "source": [
    "l=[x*x for x in range(100000)]#１０万までの２条のリストを作成\n",
    "type(l),len(l)"
   ]
  },
  {
   "cell_type": "code",
   "execution_count": 12,
   "id": "bf0ccda3",
   "metadata": {},
   "outputs": [
    {
     "data": {
      "text/plain": [
       "generator"
      ]
     },
     "execution_count": 12,
     "metadata": {},
     "output_type": "execute_result"
    }
   ],
   "source": [
    "g=(x*x for x in range(100000))#ジェネレーター式で定義\n",
    "type(g)"
   ]
  },
  {
   "cell_type": "code",
   "execution_count": 13,
   "id": "0bc092b7",
   "metadata": {},
   "outputs": [
    {
     "data": {
      "text/plain": [
       "0"
      ]
     },
     "execution_count": 13,
     "metadata": {},
     "output_type": "execute_result"
    }
   ],
   "source": [
    "next(g)#値を順番の取り出せる"
   ]
  },
  {
   "cell_type": "code",
   "execution_count": 14,
   "id": "b2ed64b9",
   "metadata": {
    "scrolled": true
   },
   "outputs": [],
   "source": [
    "with open('sample.txt','w',encoding='utf-8') as f:\n",
    "          f.write('こんにちわ\\n')\n",
    "          f.write('Python\\n')"
   ]
  },
  {
   "cell_type": "code",
   "execution_count": 15,
   "id": "cc3d9427",
   "metadata": {},
   "outputs": [
    {
     "data": {
      "text/plain": [
       "True"
      ]
     },
     "execution_count": 15,
     "metadata": {},
     "output_type": "execute_result"
    }
   ],
   "source": [
    "f.closed#ファイルが閉じていることを確認"
   ]
  },
  {
   "cell_type": "code",
   "execution_count": 16,
   "id": "d1e1da25",
   "metadata": {},
   "outputs": [
    {
     "name": "stdout",
     "output_type": "stream",
     "text": [
      "こんにちわ\n",
      "Python\n",
      "\n"
     ]
    }
   ],
   "source": [
    "with open('sample.txt',encoding='utf-8') as f:\n",
    "    data=f.read()\n",
    "print(data)"
   ]
  },
  {
   "cell_type": "code",
   "execution_count": 17,
   "id": "6978855c",
   "metadata": {},
   "outputs": [
    {
     "data": {
      "text/plain": [
       "('HELLO PYTHON', 'hello python', 'Hello Python')"
      ]
     },
     "execution_count": 17,
     "metadata": {},
     "output_type": "execute_result"
    }
   ],
   "source": [
    "s1='hello python'\n",
    "s1.upper(),s1.lower(),s1.title()"
   ]
  },
  {
   "cell_type": "code",
   "execution_count": 18,
   "id": "4ca622ad",
   "metadata": {},
   "outputs": [
    {
     "data": {
      "text/plain": [
       "'Hi python'"
      ]
     },
     "execution_count": 18,
     "metadata": {},
     "output_type": "execute_result"
    }
   ],
   "source": [
    "s1.replace('hello','Hi')"
   ]
  },
  {
   "cell_type": "code",
   "execution_count": 19,
   "id": "dd3aee4d",
   "metadata": {},
   "outputs": [
    {
     "data": {
      "text/plain": [
       "['spam', 'ham', 'eggs']"
      ]
     },
     "execution_count": 19,
     "metadata": {},
     "output_type": "execute_result"
    }
   ],
   "source": [
    "s2=' spam ham  eggs '\n",
    "s2.split()"
   ]
  },
  {
   "cell_type": "code",
   "execution_count": 20,
   "id": "c7a2cead",
   "metadata": {},
   "outputs": [
    {
     "data": {
      "text/plain": [
       "'spam ham  eggs'"
      ]
     },
     "execution_count": 20,
     "metadata": {},
     "output_type": "execute_result"
    }
   ],
   "source": [
    "s2.strip()"
   ]
  },
  {
   "cell_type": "code",
   "execution_count": 21,
   "id": "b25615c7",
   "metadata": {},
   "outputs": [
    {
     "data": {
      "text/plain": [
       "' spam ham  eggs '"
      ]
     },
     "execution_count": 21,
     "metadata": {},
     "output_type": "execute_result"
    }
   ],
   "source": [
    "s2"
   ]
  },
  {
   "cell_type": "code",
   "execution_count": 22,
   "id": "a6842e81",
   "metadata": {},
   "outputs": [],
   "source": [
    "s3='sample.jpg'"
   ]
  },
  {
   "cell_type": "code",
   "execution_count": 23,
   "id": "3fec07b2",
   "metadata": {},
   "outputs": [
    {
     "data": {
      "text/plain": [
       "'sample.jpg'"
      ]
     },
     "execution_count": 23,
     "metadata": {},
     "output_type": "execute_result"
    }
   ],
   "source": [
    "s3"
   ]
  },
  {
   "cell_type": "code",
   "execution_count": 24,
   "id": "d1cff3fc",
   "metadata": {},
   "outputs": [
    {
     "data": {
      "text/plain": [
       "True"
      ]
     },
     "execution_count": 24,
     "metadata": {},
     "output_type": "execute_result"
    }
   ],
   "source": [
    "s3.endswith(('jpg','gif','png'))"
   ]
  },
  {
   "cell_type": "code",
   "execution_count": 25,
   "id": "acd0c7fd",
   "metadata": {},
   "outputs": [
    {
     "data": {
      "text/plain": [
       "True"
      ]
     },
     "execution_count": 25,
     "metadata": {},
     "output_type": "execute_result"
    }
   ],
   "source": [
    "'123456789'.isdigit()"
   ]
  },
  {
   "cell_type": "code",
   "execution_count": 26,
   "id": "7a60c475",
   "metadata": {},
   "outputs": [
    {
     "data": {
      "text/plain": [
       "12"
      ]
     },
     "execution_count": 26,
     "metadata": {},
     "output_type": "execute_result"
    }
   ],
   "source": [
    "len(s1)"
   ]
  },
  {
   "cell_type": "code",
   "execution_count": 27,
   "id": "9e210707",
   "metadata": {},
   "outputs": [
    {
     "data": {
      "text/plain": [
       "'hello python'"
      ]
     },
     "execution_count": 27,
     "metadata": {},
     "output_type": "execute_result"
    }
   ],
   "source": [
    "s1"
   ]
  },
  {
   "cell_type": "code",
   "execution_count": 28,
   "id": "342bc334",
   "metadata": {},
   "outputs": [
    {
     "data": {
      "text/plain": [
       "True"
      ]
     },
     "execution_count": 28,
     "metadata": {},
     "output_type": "execute_result"
    }
   ],
   "source": [
    "'py' in s1"
   ]
  },
  {
   "cell_type": "code",
   "execution_count": 29,
   "id": "1db2c6ce",
   "metadata": {},
   "outputs": [
    {
     "data": {
      "text/plain": [
       "'spam-ham-eggs'"
      ]
     },
     "execution_count": 29,
     "metadata": {},
     "output_type": "execute_result"
    }
   ],
   "source": [
    "'-'.join(['spam','ham','eggs'])"
   ]
  },
  {
   "cell_type": "code",
   "execution_count": 30,
   "id": "5e1b6330",
   "metadata": {},
   "outputs": [
    {
     "data": {
      "text/plain": [
       "'takanoryはpythonが好きです'"
      ]
     },
     "execution_count": 30,
     "metadata": {},
     "output_type": "execute_result"
    }
   ],
   "source": [
    "lang,num,name='python',10,'takanory'\n",
    "'{}は{}が好きです'.format(name,lang)"
   ]
  },
  {
   "cell_type": "code",
   "execution_count": 31,
   "id": "ab001d8f",
   "metadata": {},
   "outputs": [
    {
     "data": {
      "text/plain": [
       "'takanoryはpythonが好きです'"
      ]
     },
     "execution_count": 31,
     "metadata": {},
     "output_type": "execute_result"
    }
   ],
   "source": [
    "'{1}は{0}が好きです'.format(lang,name)"
   ]
  },
  {
   "cell_type": "code",
   "execution_count": 32,
   "id": "7f79606f",
   "metadata": {},
   "outputs": [
    {
     "data": {
      "text/plain": [
       "'takanoryは10の10乗pythonが好きです'"
      ]
     },
     "execution_count": 32,
     "metadata": {},
     "output_type": "execute_result"
    }
   ],
   "source": [
    "'{n}は{num}の{num}乗{l}が好きです'.format(l=lang,n=name,num=num)"
   ]
  },
  {
   "cell_type": "code",
   "execution_count": 35,
   "id": "1195d489",
   "metadata": {},
   "outputs": [
    {
     "data": {
      "text/plain": [
       "<re.Match object; span=(0, 6), match='Python'>"
      ]
     },
     "execution_count": 35,
     "metadata": {},
     "output_type": "execute_result"
    }
   ],
   "source": [
    "import re\n",
    "prog=re.compile('(P(yth|l)|Z)o[pn]e?')#正規表現オブジェクトを生成\n",
    "prog.search('Python')#マッチする場合はmatchオブジェクトを返す"
   ]
  },
  {
   "cell_type": "code",
   "execution_count": 36,
   "id": "61cdcae9",
   "metadata": {},
   "outputs": [],
   "source": [
    "prog.search('Spam')#マッチしない場合はNoneを返す"
   ]
  },
  {
   "cell_type": "code",
   "execution_count": 37,
   "id": "8c090b07",
   "metadata": {},
   "outputs": [],
   "source": [
    "import logging\n",
    "logging.basicConfig(\n",
    "    filename='example.log',\n",
    "    level=logging.INFO,\n",
    "    format='%(asctime)s:%(levelname)s:%(message)s'\n",
    ")"
   ]
  },
  {
   "cell_type": "code",
   "execution_count": 38,
   "id": "634e49d0",
   "metadata": {},
   "outputs": [],
   "source": [
    "logging.debug('デバッグレベル')\n",
    "logging.info('INFOレベル')\n",
    "logging.warning('警告レベル')\n",
    "logging.error('エラーレベル')\n",
    "logging.critical('重大なエラー')"
   ]
  },
  {
   "cell_type": "code",
   "execution_count": 39,
   "id": "15edd2d7",
   "metadata": {},
   "outputs": [
    {
     "data": {
      "text/plain": [
       "datetime.datetime(2021, 7, 12, 14, 37, 0, 403632)"
      ]
     },
     "execution_count": 39,
     "metadata": {},
     "output_type": "execute_result"
    }
   ],
   "source": [
    "from datetime import datetime,date\n",
    "datetime.now()"
   ]
  },
  {
   "cell_type": "code",
   "execution_count": 40,
   "id": "e188ec2f",
   "metadata": {},
   "outputs": [
    {
     "data": {
      "text/plain": [
       "datetime.date(2021, 7, 12)"
      ]
     },
     "execution_count": 40,
     "metadata": {},
     "output_type": "execute_result"
    }
   ],
   "source": [
    "date.today()"
   ]
  },
  {
   "cell_type": "code",
   "execution_count": 41,
   "id": "11b93c06",
   "metadata": {},
   "outputs": [
    {
     "data": {
      "text/plain": [
       "datetime.timedelta(days=4604)"
      ]
     },
     "execution_count": 41,
     "metadata": {},
     "output_type": "execute_result"
    }
   ],
   "source": [
    "date.today()-date(2008,12,3)"
   ]
  },
  {
   "cell_type": "code",
   "execution_count": 42,
   "id": "f19b8693",
   "metadata": {},
   "outputs": [
    {
     "data": {
      "text/plain": [
       "'2021-07-12T14:37:03.068235'"
      ]
     },
     "execution_count": 42,
     "metadata": {},
     "output_type": "execute_result"
    }
   ],
   "source": [
    "datetime.now().isoformat()#ISO8601形式の文字列を取得"
   ]
  },
  {
   "cell_type": "code",
   "execution_count": 43,
   "id": "ac633c67",
   "metadata": {},
   "outputs": [
    {
     "data": {
      "text/plain": [
       "'2021年07月12日'"
      ]
     },
     "execution_count": 43,
     "metadata": {},
     "output_type": "execute_result"
    }
   ],
   "source": [
    "date.today().strftime('%Y年%m月%d日')#日付を文字列に変換"
   ]
  },
  {
   "cell_type": "code",
   "execution_count": 44,
   "id": "2cde4873",
   "metadata": {},
   "outputs": [
    {
     "data": {
      "text/plain": [
       "datetime.datetime(2018, 7, 11, 0, 0)"
      ]
     },
     "execution_count": 44,
     "metadata": {},
     "output_type": "execute_result"
    }
   ],
   "source": [
    "datetime.strptime('2018年7月11日','%Y年%m月%d日')\n",
    "#文字列を日時に変換"
   ]
  },
  {
   "cell_type": "code",
   "execution_count": 45,
   "id": "26f7548b",
   "metadata": {},
   "outputs": [
    {
     "data": {
      "text/plain": [
       "{'today': datetime.date(2021, 7, 12), 'delta': datetime.timedelta(days=-923)}"
      ]
     },
     "execution_count": 45,
     "metadata": {},
     "output_type": "execute_result"
    }
   ],
   "source": [
    "import pickle\n",
    "d={'today':date.today(),#辞書データを定義\n",
    "   'delta':date(2019,1,1)-date.today()}\n",
    "d"
   ]
  },
  {
   "cell_type": "code",
   "execution_count": 46,
   "id": "c8664831",
   "metadata": {},
   "outputs": [
    {
     "data": {
      "text/plain": [
       "b'\\x80\\x04\\x95Q\\x00\\x00\\x00\\x00\\x00\\x00\\x00}\\x94(\\x8c\\x05today\\x94\\x8c\\x08datetime\\x94\\x8c\\x04date\\x94\\x93\\x94C\\x04\\x07\\xe5\\x07\\x0c\\x94\\x85\\x94R\\x94\\x8c\\x05delta\\x94h\\x02\\x8c\\ttimedelta\\x94\\x93\\x94Je\\xfc\\xff\\xffK\\x00K\\x00\\x87\\x94R\\x94u.'"
      ]
     },
     "execution_count": 46,
     "metadata": {},
     "output_type": "execute_result"
    }
   ],
   "source": [
    "pickle.dumps(d)#直列化した情報を確認"
   ]
  },
  {
   "cell_type": "code",
   "execution_count": 47,
   "id": "618927b0",
   "metadata": {},
   "outputs": [],
   "source": [
    "with open('date.pkl','wb') as f:\n",
    "    pickle.dump(d,f)#Pickle形式のデータを保存"
   ]
  },
  {
   "cell_type": "code",
   "execution_count": 48,
   "id": "c4d39356",
   "metadata": {},
   "outputs": [
    {
     "data": {
      "text/plain": [
       "{'today': datetime.date(2021, 7, 12), 'delta': datetime.timedelta(days=-923)}"
      ]
     },
     "execution_count": 48,
     "metadata": {},
     "output_type": "execute_result"
    }
   ],
   "source": [
    "with open('date.pkl','rb') as f:\n",
    "    new_d=pickle.load(f)#Pickle形式のデータを読み込む\n",
    "new_d"
   ]
  },
  {
   "cell_type": "code",
   "execution_count": 49,
   "id": "d94536ef",
   "metadata": {},
   "outputs": [
    {
     "data": {
      "text/plain": [
       "PosixPath('.')"
      ]
     },
     "execution_count": 49,
     "metadata": {},
     "output_type": "execute_result"
    }
   ],
   "source": [
    "from pathlib import Path\n",
    "p=Path()#Pathオブジェクトを現在のディレクトリで生成\n",
    "p"
   ]
  },
  {
   "cell_type": "code",
   "execution_count": 50,
   "id": "24ae5122",
   "metadata": {},
   "outputs": [
    {
     "data": {
      "text/plain": [
       "PosixPath('/spam/ham/eggs.txt')"
      ]
     },
     "execution_count": 50,
     "metadata": {},
     "output_type": "execute_result"
    }
   ],
   "source": [
    "for filepath in p.glob('*.txt'):#.txtファイルを順番に開いて読み込む\n",
    "    with open(filepath,encoding='utf-8') as f:\n",
    "        data=f.read()\n",
    "p=Path('/spam')\n",
    "p/'ham'/'eggs.txt'#演算子でパスを生成"
   ]
  },
  {
   "cell_type": "code",
   "execution_count": 52,
   "id": "6d3b1d0a",
   "metadata": {},
   "outputs": [
    {
     "data": {
      "text/plain": [
       "True"
      ]
     },
     "execution_count": 52,
     "metadata": {},
     "output_type": "execute_result"
    }
   ],
   "source": [
    "p=Path('date.pkl')\n",
    "p.exists()#ファイルの存在をチェック"
   ]
  },
  {
   "cell_type": "code",
   "execution_count": 53,
   "id": "c87c8a73",
   "metadata": {},
   "outputs": [
    {
     "data": {
      "text/plain": [
       "False"
      ]
     },
     "execution_count": 53,
     "metadata": {},
     "output_type": "execute_result"
    }
   ],
   "source": [
    "p.is_dir()#ディレクトリをチェック"
   ]
  },
  {
   "cell_type": "code",
   "execution_count": null,
   "id": "af2b5efb",
   "metadata": {},
   "outputs": [],
   "source": []
  }
 ],
 "metadata": {
  "kernelspec": {
   "display_name": "Python 3",
   "language": "python",
   "name": "python3"
  },
  "language_info": {
   "codemirror_mode": {
    "name": "ipython",
    "version": 3
   },
   "file_extension": ".py",
   "mimetype": "text/x-python",
   "name": "python",
   "nbconvert_exporter": "python",
   "pygments_lexer": "ipython3",
   "version": "3.8.8"
  }
 },
 "nbformat": 4,
 "nbformat_minor": 5
}
